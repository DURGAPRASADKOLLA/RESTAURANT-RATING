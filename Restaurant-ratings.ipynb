{
 "cells": [
  {
   "cell_type": "code",
   "execution_count": 2,
   "id": "bce29286-7ebd-4181-919f-59718ac9e69b",
   "metadata": {},
   "outputs": [
    {
     "name": "stderr",
     "output_type": "stream",
     "text": [
      "C:\\Users\\DURGA PRASAD\\AppData\\Local\\Temp\\ipykernel_9684\\2373590998.py:17: FutureWarning: A value is trying to be set on a copy of a DataFrame or Series through chained assignment using an inplace method.\n",
      "The behavior will change in pandas 3.0. This inplace method will never work because the intermediate object on which we are setting values always behaves as a copy.\n",
      "\n",
      "For example, when doing 'df[col].method(value, inplace=True)', try using 'df.method({col: value}, inplace=True)' or df[col] = df[col].method(value) instead, to perform the operation inplace on the original object.\n",
      "\n",
      "\n",
      "  df['Cuisines'].fillna(df['Cuisines'].mode()[0], inplace=True)\n"
     ]
    },
    {
     "name": "stdout",
     "output_type": "stream",
     "text": [
      "📊 Mean Squared Error: 54739615923423.13\n",
      "📈 R² Score: -24049646197292.99\n",
      "\n",
      "🔍 Top 10 Most Influential Features:\n",
      "Currency_Indian Rupees(Rs.)    2.221369e+08\n",
      "Currency_Dollar($)             1.971925e+08\n",
      "City_Mandaluyong City          1.967830e+08\n",
      "City_Makati City               1.967830e+08\n",
      "City_Santa Rosa                1.967830e+08\n",
      "Currency_Emirati Diram(AED)    1.967830e+08\n",
      "City_Pasay City                1.967830e+08\n",
      "Currency_Pounds(��)            1.912618e+08\n",
      "Currency_Rand(R)               1.837778e+08\n",
      "Currency_Brazilian Real(R$)    1.719032e+08\n",
      "dtype: float64\n"
     ]
    }
   ],
   "source": [
    "# 1. Import libraries\n",
    "import pandas as pd\n",
    "from sklearn.model_selection import train_test_split\n",
    "from sklearn.linear_model import LinearRegression\n",
    "from sklearn.metrics import mean_squared_error, r2_score\n",
    "\n",
    "# 2. Load the dataset\n",
    "df = pd.read_csv(\"Dataset .csv\")  # Make sure the file is in your working directory\n",
    "\n",
    "# 3. Drop irrelevant columns\n",
    "df = df.drop(columns=[\n",
    "    'Restaurant ID', 'Restaurant Name', 'Address', 'Locality',\n",
    "    'Locality Verbose', 'Rating color', 'Rating text'\n",
    "])\n",
    "\n",
    "# 4. Handle missing values\n",
    "df['Cuisines'].fillna(df['Cuisines'].mode()[0], inplace=True)\n",
    "\n",
    "# 5. One-hot encode categorical features\n",
    "categorical_cols = df.select_dtypes(include='object').columns\n",
    "df_encoded = pd.get_dummies(df, columns=categorical_cols, drop_first=True)\n",
    "\n",
    "# 6. Split features and target\n",
    "X = df_encoded.drop('Aggregate rating', axis=1)\n",
    "y = df_encoded['Aggregate rating']\n",
    "\n",
    "# 7. Train-test split\n",
    "X_train, X_test, y_train, y_test = train_test_split(\n",
    "    X, y, test_size=0.2, random_state=42\n",
    ")\n",
    "\n",
    "# 8. Train Linear Regression model\n",
    "lr = LinearRegression()\n",
    "lr.fit(X_train, y_train)\n",
    "\n",
    "# 9. Predict and evaluate\n",
    "y_pred = lr.predict(X_test)\n",
    "mse = mean_squared_error(y_test, y_pred)\n",
    "r2 = r2_score(y_test, y_pred)\n",
    "\n",
    "print(f\"📊 Mean Squared Error: {mse:.2f}\")\n",
    "print(f\"📈 R² Score: {r2:.2f}\")\n",
    "\n",
    "# 10. Feature Importance (Top 10)\n",
    "feature_importance = pd.Series(lr.coef_, index=X.columns)\n",
    "top_features = feature_importance.abs().sort_values(ascending=False).head(10)\n",
    "top_features_with_sign = feature_importance.loc[top_features.index]\n",
    "\n",
    "print(\"\\n🔍 Top 10 Most Influential Features:\")\n",
    "print(top_features_with_sign)\n"
   ]
  },
  {
   "cell_type": "code",
   "execution_count": null,
   "id": "9f601ca4-90ea-41fe-82b2-f5991893ecc8",
   "metadata": {},
   "outputs": [],
   "source": []
  }
 ],
 "metadata": {
  "kernelspec": {
   "display_name": "Python 3 (ipykernel)",
   "language": "python",
   "name": "python3"
  },
  "language_info": {
   "codemirror_mode": {
    "name": "ipython",
    "version": 3
   },
   "file_extension": ".py",
   "mimetype": "text/x-python",
   "name": "python",
   "nbconvert_exporter": "python",
   "pygments_lexer": "ipython3",
   "version": "3.11.4"
  }
 },
 "nbformat": 4,
 "nbformat_minor": 5
}
